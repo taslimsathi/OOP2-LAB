{
  "nbformat": 4,
  "nbformat_minor": 0,
  "metadata": {
    "colab": {
      "name": "Week1.ipynb",
      "provenance": [],
      "collapsed_sections": [],
      "authorship_tag": "ABX9TyPV+dUZHiJiJFA7f6iy+wRy",
      "include_colab_link": true
    },
    "kernelspec": {
      "name": "python3",
      "display_name": "Python 3"
    }
  },
  "cells": [
    {
      "cell_type": "markdown",
      "metadata": {
        "id": "view-in-github",
        "colab_type": "text"
      },
      "source": [
        "<a href=\"https://colab.research.google.com/github/taslimsathi/OOP2-LAB/blob/master/Week1.ipynb\" target=\"_parent\"><img src=\"https://colab.research.google.com/assets/colab-badge.svg\" alt=\"Open In Colab\"/></a>"
      ]
    },
    {
      "cell_type": "markdown",
      "metadata": {
        "id": "7lfO-UePt11B"
      },
      "source": [
        "# **My Python First program**"
      ]
    },
    {
      "cell_type": "code",
      "metadata": {
        "id": "zd3F499sTerQ",
        "outputId": "72b8f5e9-f029-41f3-e89a-1a7f0025baf8",
        "colab": {
          "base_uri": "https://localhost:8080/",
          "height": 34
        }
      },
      "source": [
        "print(\"Hello World\");\n"
      ],
      "execution_count": null,
      "outputs": [
        {
          "output_type": "stream",
          "text": [
            "Hello World\n"
          ],
          "name": "stdout"
        }
      ]
    },
    {
      "cell_type": "markdown",
      "metadata": {
        "id": "kaZ6Tf99uKNx"
      },
      "source": [
        "# **Veriables and Assignment Statements**"
      ]
    },
    {
      "cell_type": "code",
      "metadata": {
        "id": "Yro-lH5LuXDd",
        "outputId": "efea03d1-bcb6-4600-9429-2c62237309b8",
        "colab": {
          "base_uri": "https://localhost:8080/",
          "height": 34
        }
      },
      "source": [
        "a=3\n",
        "b=4\n",
        "print(a+b)"
      ],
      "execution_count": null,
      "outputs": [
        {
          "output_type": "stream",
          "text": [
            "7\n"
          ],
          "name": "stdout"
        }
      ]
    },
    {
      "cell_type": "code",
      "metadata": {
        "id": "GGGWl8M2uwX6",
        "outputId": "4079fd03-33b5-4cd3-b13e-9e755f526530",
        "colab": {
          "base_uri": "https://localhost:8080/",
          "height": 34
        }
      },
      "source": [
        "total = a+b\n",
        "print(total)"
      ],
      "execution_count": null,
      "outputs": [
        {
          "output_type": "stream",
          "text": [
            "7\n"
          ],
          "name": "stdout"
        }
      ]
    },
    {
      "cell_type": "code",
      "metadata": {
        "id": "hEOrAcuru9k9",
        "outputId": "6cea3319-3c81-419f-a30b-333d65071c12",
        "colab": {
          "base_uri": "https://localhost:8080/",
          "height": 34
        }
      },
      "source": [
        "name1 = \"taslim\"\n",
        "name2 = \"sathi\"\n",
        "print(name1 , name2)"
      ],
      "execution_count": null,
      "outputs": [
        {
          "output_type": "stream",
          "text": [
            "taslim sathi\n"
          ],
          "name": "stdout"
        }
      ]
    },
    {
      "cell_type": "markdown",
      "metadata": {
        "id": "HGG8_B00vyzT"
      },
      "source": [
        "# **Types**"
      ]
    },
    {
      "cell_type": "code",
      "metadata": {
        "id": "9TgbjgDhv1fI",
        "outputId": "b0ec924e-f336-4d15-f948-32503b4cee8e",
        "colab": {
          "base_uri": "https://localhost:8080/",
          "height": 34
        }
      },
      "source": [
        " a =7\n",
        " type(a)"
      ],
      "execution_count": null,
      "outputs": [
        {
          "output_type": "execute_result",
          "data": {
            "text/plain": [
              "int"
            ]
          },
          "metadata": {
            "tags": []
          },
          "execution_count": 8
        }
      ]
    },
    {
      "cell_type": "code",
      "metadata": {
        "id": "QWI1PVkswb2F",
        "outputId": "d155f257-c7af-4e46-e838-0d5646fa8483",
        "colab": {
          "base_uri": "https://localhost:8080/",
          "height": 34
        }
      },
      "source": [
        "type (7.4)"
      ],
      "execution_count": null,
      "outputs": [
        {
          "output_type": "execute_result",
          "data": {
            "text/plain": [
              "float"
            ]
          },
          "metadata": {
            "tags": []
          },
          "execution_count": 11
        }
      ]
    },
    {
      "cell_type": "code",
      "metadata": {
        "id": "ORLLb8YRxKdu",
        "outputId": "cc347f9c-fce0-46b3-d3f1-4b2a357deda6",
        "colab": {
          "base_uri": "https://localhost:8080/",
          "height": 34
        }
      },
      "source": [
        "type(name1)"
      ],
      "execution_count": null,
      "outputs": [
        {
          "output_type": "execute_result",
          "data": {
            "text/plain": [
              "str"
            ]
          },
          "metadata": {
            "tags": []
          },
          "execution_count": 13
        }
      ]
    },
    {
      "cell_type": "markdown",
      "metadata": {
        "id": "1LFU2qGHxUzy"
      },
      "source": [
        "# **Arithmetic operators**"
      ]
    },
    {
      "cell_type": "code",
      "metadata": {
        "id": "AkMQnRLuxeLA",
        "outputId": "3fc03b56-25b9-4509-acf2-ccb3bb1c4b41",
        "colab": {
          "base_uri": "https://localhost:8080/",
          "height": 34
        }
      },
      "source": [
        "multiplication = 3*6\n",
        "print(multiplication)"
      ],
      "execution_count": null,
      "outputs": [
        {
          "output_type": "stream",
          "text": [
            "18\n"
          ],
          "name": "stdout"
        }
      ]
    },
    {
      "cell_type": "code",
      "metadata": {
        "id": "hyraTbFRxqIb",
        "outputId": "171acc87-985b-4c22-91b7-8a4b2202bdb5",
        "colab": {
          "base_uri": "https://localhost:8080/",
          "height": 34
        }
      },
      "source": [
        "add = 80+ 30\n",
        "print(add)"
      ],
      "execution_count": null,
      "outputs": [
        {
          "output_type": "stream",
          "text": [
            "110\n"
          ],
          "name": "stdout"
        }
      ]
    },
    {
      "cell_type": "code",
      "metadata": {
        "id": "cUOPdSjvyCYy",
        "outputId": "6ded2da4-45e8-4e49-f84e-f9acf59c8636",
        "colab": {
          "base_uri": "https://localhost:8080/",
          "height": 34
        }
      },
      "source": [
        "sub = 70-20\n",
        "print(sub)"
      ],
      "execution_count": null,
      "outputs": [
        {
          "output_type": "stream",
          "text": [
            "50\n"
          ],
          "name": "stdout"
        }
      ]
    },
    {
      "cell_type": "code",
      "metadata": {
        "id": "1flzCOyxyOZB",
        "outputId": "fefed82f-026c-4662-f569-3d24734ca0b2",
        "colab": {
          "base_uri": "https://localhost:8080/",
          "height": 34
        }
      },
      "source": [
        "Exponentiation = 3**15\n",
        "print(Exponentiation)"
      ],
      "execution_count": null,
      "outputs": [
        {
          "output_type": "stream",
          "text": [
            "14348907\n"
          ],
          "name": "stdout"
        }
      ]
    },
    {
      "cell_type": "markdown",
      "metadata": {
        "id": "jeFr4FgzzQ3k"
      },
      "source": [
        "True Division(/) vs. Floor Division (//)\n"
      ]
    },
    {
      "cell_type": "code",
      "metadata": {
        "id": "lpgJl91t2wqq",
        "outputId": "97632cc7-7bd6-4eab-880a-af6b647d6caa",
        "colab": {
          "base_uri": "https://localhost:8080/",
          "height": 34
        }
      },
      "source": [
        "True_Division = 8/4\n",
        "print(True_Division)"
      ],
      "execution_count": null,
      "outputs": [
        {
          "output_type": "stream",
          "text": [
            "2.0\n"
          ],
          "name": "stdout"
        }
      ]
    },
    {
      "cell_type": "code",
      "metadata": {
        "id": "oXAOpRD-3Bk-",
        "outputId": "66d1d2fe-1a87-41e0-851f-c8cf5b12ff4e",
        "colab": {
          "base_uri": "https://localhost:8080/",
          "height": 34
        }
      },
      "source": [
        "Floor_Division = 8//4\n",
        "print(Floor_Division)"
      ],
      "execution_count": null,
      "outputs": [
        {
          "output_type": "stream",
          "text": [
            "2\n"
          ],
          "name": "stdout"
        }
      ]
    },
    {
      "cell_type": "code",
      "metadata": {
        "id": "BX7mr_EI3v81",
        "outputId": "3f619715-6274-4f5a-c9b5-5eee52ad059c",
        "colab": {
          "base_uri": "https://localhost:8080/",
          "height": 34
        }
      },
      "source": [
        "remainder = 15%5\n",
        "print(remainder)"
      ],
      "execution_count": null,
      "outputs": [
        {
          "output_type": "stream",
          "text": [
            "0\n"
          ],
          "name": "stdout"
        }
      ]
    },
    {
      "cell_type": "markdown",
      "metadata": {
        "id": "pZOAiL0SJbOS"
      },
      "source": [
        "# **Relational Operators**"
      ]
    },
    {
      "cell_type": "code",
      "metadata": {
        "id": "zyOV_Z4-l06D"
      },
      "source": [
        "x = 105\n",
        "y = 100"
      ],
      "execution_count": 1,
      "outputs": []
    },
    {
      "cell_type": "code",
      "metadata": {
        "id": "QYIogwjbl1kb",
        "outputId": "2a619809-b86d-49c1-9126-10070ee4e428",
        "colab": {
          "base_uri": "https://localhost:8080/",
          "height": 34
        }
      },
      "source": [
        "x>y"
      ],
      "execution_count": null,
      "outputs": [
        {
          "output_type": "execute_result",
          "data": {
            "text/plain": [
              "True"
            ]
          },
          "metadata": {
            "tags": []
          },
          "execution_count": 22
        }
      ]
    },
    {
      "cell_type": "code",
      "metadata": {
        "id": "k4TzTYm2l2Tn",
        "outputId": "9e6891b8-ec7f-40f3-a0f1-3259ec94d47a",
        "colab": {
          "base_uri": "https://localhost:8080/",
          "height": 34
        }
      },
      "source": [
        "x<y"
      ],
      "execution_count": null,
      "outputs": [
        {
          "output_type": "execute_result",
          "data": {
            "text/plain": [
              "False"
            ]
          },
          "metadata": {
            "tags": []
          },
          "execution_count": 23
        }
      ]
    },
    {
      "cell_type": "code",
      "metadata": {
        "id": "n0V32Q-SmG6i",
        "outputId": "ebcf3338-7418-4449-be2f-1e9c70d44d14",
        "colab": {
          "base_uri": "https://localhost:8080/",
          "height": 34
        }
      },
      "source": [
        "x==y"
      ],
      "execution_count": null,
      "outputs": [
        {
          "output_type": "execute_result",
          "data": {
            "text/plain": [
              "False"
            ]
          },
          "metadata": {
            "tags": []
          },
          "execution_count": 24
        }
      ]
    },
    {
      "cell_type": "code",
      "metadata": {
        "id": "kJJc69h8mG9W",
        "outputId": "9849e5f7-e538-4513-d577-64e0710f8570",
        "colab": {
          "base_uri": "https://localhost:8080/",
          "height": 34
        }
      },
      "source": [
        "x!=y"
      ],
      "execution_count": null,
      "outputs": [
        {
          "output_type": "execute_result",
          "data": {
            "text/plain": [
              "True"
            ]
          },
          "metadata": {
            "tags": []
          },
          "execution_count": 25
        }
      ]
    },
    {
      "cell_type": "code",
      "metadata": {
        "id": "a2CQP0yAKBS2",
        "outputId": "708e2177-743a-4ea0-df1e-49ecf0dc9205",
        "colab": {
          "base_uri": "https://localhost:8080/",
          "height": 34
        }
      },
      "source": [
        "x>=y"
      ],
      "execution_count": 2,
      "outputs": [
        {
          "output_type": "execute_result",
          "data": {
            "text/plain": [
              "True"
            ]
          },
          "metadata": {
            "tags": []
          },
          "execution_count": 2
        }
      ]
    },
    {
      "cell_type": "code",
      "metadata": {
        "id": "pQTyjZwXmHBD",
        "outputId": "838ce1ab-d534-4ad4-d31a-2ac650364524",
        "colab": {
          "base_uri": "https://localhost:8080/",
          "height": 34
        }
      },
      "source": [
        "x<=y"
      ],
      "execution_count": null,
      "outputs": [
        {
          "output_type": "execute_result",
          "data": {
            "text/plain": [
              "False"
            ]
          },
          "metadata": {
            "tags": []
          },
          "execution_count": 27
        }
      ]
    },
    {
      "cell_type": "markdown",
      "metadata": {
        "id": "ZwUYjo3cKTVO"
      },
      "source": [
        "Chaining Comparisons"
      ]
    },
    {
      "cell_type": "code",
      "metadata": {
        "id": "hlxRGBHtwNcJ"
      },
      "source": [
        "x = 3\n",
        "y = 10"
      ],
      "execution_count": null,
      "outputs": []
    },
    {
      "cell_type": "code",
      "metadata": {
        "id": "JckxAimYwUnj",
        "outputId": "4c98ea47-80d4-4f12-cee0-d82cc12e62cf",
        "colab": {
          "base_uri": "https://localhost:8080/",
          "height": 34
        }
      },
      "source": [
        "1 <= x <= 5"
      ],
      "execution_count": null,
      "outputs": [
        {
          "output_type": "execute_result",
          "data": {
            "text/plain": [
              "True"
            ]
          },
          "metadata": {
            "tags": []
          },
          "execution_count": 67
        }
      ]
    },
    {
      "cell_type": "code",
      "metadata": {
        "id": "_m8YjFPWwnYZ",
        "outputId": "396aa0d3-9bcf-427f-c8e1-a239564a35ef",
        "colab": {
          "base_uri": "https://localhost:8080/",
          "height": 34
        }
      },
      "source": [
        "1 <= y <= 5"
      ],
      "execution_count": null,
      "outputs": [
        {
          "output_type": "execute_result",
          "data": {
            "text/plain": [
              "False"
            ]
          },
          "metadata": {
            "tags": []
          },
          "execution_count": 68
        }
      ]
    },
    {
      "cell_type": "markdown",
      "metadata": {
        "id": "gcUNxJjk5W6Q"
      },
      "source": [
        "# **Print Function**"
      ]
    },
    {
      "cell_type": "markdown",
      "metadata": {
        "id": "PNQZH9_J8kwE"
      },
      "source": [
        "Printing a Comma-Separated List of Items"
      ]
    },
    {
      "cell_type": "code",
      "metadata": {
        "id": "AAR9pd3j87z9",
        "outputId": "a675b11b-9530-4a3a-8b5b-78e40c6b5d88",
        "colab": {
          "base_uri": "https://localhost:8080/",
          "height": 34
        }
      },
      "source": [
        "print('Welcome', 'to' , 'python! ')"
      ],
      "execution_count": null,
      "outputs": [
        {
          "output_type": "stream",
          "text": [
            "Welcome to python! \n"
          ],
          "name": "stdout"
        }
      ]
    },
    {
      "cell_type": "code",
      "metadata": {
        "id": "-JpAQC6BnEvf",
        "outputId": "99924760-2a91-49ae-d8f9-54243fb15725",
        "colab": {
          "base_uri": "https://localhost:8080/",
          "height": 85
        }
      },
      "source": [
        "print('Welcome\\nto\\n\\nPython!')"
      ],
      "execution_count": null,
      "outputs": [
        {
          "output_type": "stream",
          "text": [
            "Welcome\n",
            "to\n",
            "\n",
            "Python!\n"
          ],
          "name": "stdout"
        }
      ]
    },
    {
      "cell_type": "markdown",
      "metadata": {
        "id": "1MFAMjgTnk41"
      },
      "source": [
        "Ignoring a Line Break in a Long String"
      ]
    },
    {
      "cell_type": "code",
      "metadata": {
        "id": "3Hcf_xBjnZAw",
        "outputId": "3dce519e-0f48-48d5-a2e7-d1970d8a940f",
        "colab": {
          "base_uri": "https://localhost:8080/",
          "height": 34
        }
      },
      "source": [
        "print('this is a longer string, so we \\\n",
        " split it over two lines')"
      ],
      "execution_count": null,
      "outputs": [
        {
          "output_type": "stream",
          "text": [
            "this is a longer string, so we  split it over two lines\n"
          ],
          "name": "stdout"
        }
      ]
    },
    {
      "cell_type": "markdown",
      "metadata": {
        "id": "YhNzu1Hxn0jN"
      },
      "source": [
        "Printing the Value of an Expression"
      ]
    },
    {
      "cell_type": "code",
      "metadata": {
        "id": "4gzskSvCnsRj",
        "outputId": "1486d2e5-f6c1-42f3-c67a-ef33790d6957",
        "colab": {
          "base_uri": "https://localhost:8080/",
          "height": 34
        }
      },
      "source": [
        "print('Sum is', 7 + 3)"
      ],
      "execution_count": null,
      "outputs": [
        {
          "output_type": "stream",
          "text": [
            "Sum is 10\n"
          ],
          "name": "stdout"
        }
      ]
    },
    {
      "cell_type": "markdown",
      "metadata": {
        "id": "alpAFbQ_paGM"
      },
      "source": [
        "What does the following print statement display?\n",
        "\n",
        "**print('int(5.2)', 'truncates 5.2 to', int(5.2))**"
      ]
    },
    {
      "cell_type": "code",
      "metadata": {
        "id": "M7c8lh-8n5LH",
        "outputId": "850b45a8-63e0-4a82-eb61-45ef03a36d77",
        "colab": {
          "base_uri": "https://localhost:8080/",
          "height": 34
        }
      },
      "source": [
        "print('int(5.2)', 'truncates 5.2 to', int(5.2))"
      ],
      "execution_count": null,
      "outputs": [
        {
          "output_type": "stream",
          "text": [
            "int(5.2) truncates 5.2 to 5\n"
          ],
          "name": "stdout"
        }
      ]
    },
    {
      "cell_type": "markdown",
      "metadata": {
        "id": "1XaCO4yhp2Fh"
      },
      "source": [
        "Including Quotes in Strings"
      ]
    },
    {
      "cell_type": "code",
      "metadata": {
        "id": "0n4YdMLNpo8q",
        "outputId": "642a38e6-e4fc-49df-d9d6-35c3eb778094",
        "colab": {
          "base_uri": "https://localhost:8080/",
          "height": 34
        }
      },
      "source": [
        "print('Display \"hi\" in quotes')"
      ],
      "execution_count": null,
      "outputs": [
        {
          "output_type": "stream",
          "text": [
            "Display \"hi\" in quotes\n"
          ],
          "name": "stdout"
        }
      ]
    },
    {
      "cell_type": "code",
      "metadata": {
        "id": "dks5HTI2qbBD",
        "outputId": "f7281488-e6a8-4fba-d4f2-03853c14a737",
        "colab": {
          "base_uri": "https://localhost:8080/",
          "height": 34
        }
      },
      "source": [
        "print('Display \\'hi\\' in quotes')   #using the \\' escape sequence:"
      ],
      "execution_count": null,
      "outputs": [
        {
          "output_type": "stream",
          "text": [
            "Display 'hi' in quotes\n"
          ],
          "name": "stdout"
        }
      ]
    },
    {
      "cell_type": "code",
      "metadata": {
        "id": "59Fmp73aq11h",
        "outputId": "79848d43-7e18-48af-a516-9b1a8fbd40d3",
        "colab": {
          "base_uri": "https://localhost:8080/",
          "height": 34
        }
      },
      "source": [
        "print(\"Display the name O'Brien\")"
      ],
      "execution_count": null,
      "outputs": [
        {
          "output_type": "stream",
          "text": [
            "Display the name O'Brien\n"
          ],
          "name": "stdout"
        }
      ]
    },
    {
      "cell_type": "code",
      "metadata": {
        "id": "p5yJgI0_q2Dh",
        "outputId": "a35c20e4-a9c7-4881-8681-b7a160dcbf3f",
        "colab": {
          "base_uri": "https://localhost:8080/",
          "height": 34
        }
      },
      "source": [
        "print(\"Display \\\"hi\\\" in quotes\")"
      ],
      "execution_count": null,
      "outputs": [
        {
          "output_type": "stream",
          "text": [
            "Display \"hi\" in quotes\n"
          ],
          "name": "stdout"
        }
      ]
    },
    {
      "cell_type": "markdown",
      "metadata": {
        "id": "2tmbblbCp2TI"
      },
      "source": [
        "To avoid using \\' and \\\" inside strings, you can enclose such strings in triple quotes:"
      ]
    },
    {
      "cell_type": "code",
      "metadata": {
        "id": "myznCbzMrHDI",
        "outputId": "5bdeeb5c-b75c-407a-f21e-aa1668ecdb1b",
        "colab": {
          "base_uri": "https://localhost:8080/",
          "height": 34
        }
      },
      "source": [
        "print(\"\"\"Display \"hi\" and 'bye' in quotes\"\"\")"
      ],
      "execution_count": null,
      "outputs": [
        {
          "output_type": "stream",
          "text": [
            "Display \"hi\" and 'bye' in quotes\n"
          ],
          "name": "stdout"
        }
      ]
    },
    {
      "cell_type": "markdown",
      "metadata": {
        "id": "XETCna9wp2f2"
      },
      "source": [
        "Multiline Strings"
      ]
    },
    {
      "cell_type": "code",
      "metadata": {
        "id": "vo223kG9rRxy"
      },
      "source": [
        "triple_quoted_string = \"\"\"This is a triple-quoted\n",
        "string that spans two lines\"\"\""
      ],
      "execution_count": null,
      "outputs": []
    },
    {
      "cell_type": "code",
      "metadata": {
        "id": "g4RB-yLYrVs5",
        "outputId": "666c35d2-4d76-42ef-847d-bf8655f76acc",
        "colab": {
          "base_uri": "https://localhost:8080/",
          "height": 51
        }
      },
      "source": [
        "print(triple_quoted_string)"
      ],
      "execution_count": null,
      "outputs": [
        {
          "output_type": "stream",
          "text": [
            "This is a triple-quoted\n",
            "string that spans two lines\n"
          ],
          "name": "stdout"
        }
      ]
    },
    {
      "cell_type": "code",
      "metadata": {
        "id": "ncWZyiJorbMR",
        "outputId": "f13a716e-5c5f-43fb-deb7-04d86e0c73d3",
        "colab": {
          "base_uri": "https://localhost:8080/",
          "height": 35
        }
      },
      "source": [
        "triple_quoted_string"
      ],
      "execution_count": null,
      "outputs": [
        {
          "output_type": "execute_result",
          "data": {
            "application/vnd.google.colaboratory.intrinsic+json": {
              "type": "string"
            },
            "text/plain": [
              "'This is a triple-quoted\\nstring that spans two lines'"
            ]
          },
          "metadata": {
            "tags": []
          },
          "execution_count": 47
        }
      ]
    },
    {
      "cell_type": "code",
      "metadata": {
        "id": "qc-4KCearr5B",
        "outputId": "6a961640-f541-4e63-d240-d0ed0a60cecf",
        "colab": {
          "base_uri": "https://localhost:8080/",
          "height": 68
        }
      },
      "source": [
        "print(\"\"\"This is a lengthy\n",
        "multiline string containing\n",
        "a few lines \\\n",
        "of text\"\"\")"
      ],
      "execution_count": null,
      "outputs": [
        {
          "output_type": "stream",
          "text": [
            "This is a lengthy\n",
            "multiline string containing\n",
            "a few lines of text\n"
          ],
          "name": "stdout"
        }
      ]
    },
    {
      "cell_type": "markdown",
      "metadata": {
        "id": "qi1FgvUyKVqY"
      },
      "source": [
        "Precision Handling in Python"
      ]
    },
    {
      "cell_type": "code",
      "metadata": {
        "id": "kuJvceDlKqPQ",
        "outputId": "9451f8b6-82e9-4655-f2ec-7c2f4dc71ed2",
        "colab": {
          "base_uri": "https://localhost:8080/",
          "height": 34
        }
      },
      "source": [
        "# using \"%\" to print value till 2 decimal places  \n",
        "print (\"The value of number till 2 decimal place(using %) is : \",end=\"\") \n",
        "print ('%.2f' %a) "
      ],
      "execution_count": null,
      "outputs": [
        {
          "output_type": "stream",
          "text": [
            "The value of number till 2 decimal place(using %) is : 3.45\n"
          ],
          "name": "stdout"
        }
      ]
    },
    {
      "cell_type": "code",
      "metadata": {
        "id": "axTnYCpxK5tB",
        "outputId": "d14d2a36-c4cf-49ca-bb35-12599b8f671f",
        "colab": {
          "base_uri": "https://localhost:8080/",
          "height": 34
        }
      },
      "source": [
        "# using \"%\" to print value till 4 decimal places  \n",
        "print (\"The value of number till 2 decimal place(using %) is : \",end=\"\") \n",
        "print ('%.4f' %a)"
      ],
      "execution_count": null,
      "outputs": [
        {
          "output_type": "stream",
          "text": [
            "The value of number till 2 decimal place(using %) is : 3.4536\n"
          ],
          "name": "stdout"
        }
      ]
    },
    {
      "cell_type": "markdown",
      "metadata": {
        "id": "8olMK7PuMcWZ"
      },
      "source": [
        "# **Getting Input from the User**\n",
        "The built-in input function requests and obtains user input:"
      ]
    },
    {
      "cell_type": "code",
      "metadata": {
        "id": "wmjwQj8cMcWc",
        "outputId": "7ce2ae9c-55ff-43a1-8196-f1b7e5a87efe",
        "colab": {
          "base_uri": "https://localhost:8080/",
          "height": 34
        }
      },
      "source": [
        "name = input(\"What's your name? \")"
      ],
      "execution_count": null,
      "outputs": [
        {
          "output_type": "stream",
          "text": [
            "What's your name? shifat\n"
          ],
          "name": "stdout"
        }
      ]
    },
    {
      "cell_type": "code",
      "metadata": {
        "id": "EMLpAHOaMcWn",
        "outputId": "467bb790-9faf-46bd-84f7-3ca016800a2f",
        "colab": {
          "base_uri": "https://localhost:8080/",
          "height": 34
        }
      },
      "source": [
        "print(name)"
      ],
      "execution_count": null,
      "outputs": [
        {
          "output_type": "stream",
          "text": [
            "shifat\n"
          ],
          "name": "stdout"
        }
      ]
    },
    {
      "cell_type": "code",
      "metadata": {
        "id": "aacusrFFMcWq",
        "outputId": "fe3a6886-8b48-43b1-ab5b-ae11bbff8c37",
        "colab": {
          "base_uri": "https://localhost:8080/",
          "height": 51
        }
      },
      "source": [
        "value1 = input('Enter first number: ')\n",
        "value2 = input('Enter second number: ')"
      ],
      "execution_count": null,
      "outputs": [
        {
          "output_type": "stream",
          "text": [
            "Enter first number: 30\n",
            "Enter second number: 40\n"
          ],
          "name": "stdout"
        }
      ]
    },
    {
      "cell_type": "code",
      "metadata": {
        "id": "J1wgq_PgMcWt",
        "outputId": "caf243f4-62ba-4549-b77c-42f97bb9be77",
        "colab": {
          "base_uri": "https://localhost:8080/",
          "height": 34
        }
      },
      "source": [
        "total = value1 + value2\n",
        "print(total)"
      ],
      "execution_count": null,
      "outputs": [
        {
          "output_type": "stream",
          "text": [
            "3040\n"
          ],
          "name": "stdout"
        }
      ]
    },
    {
      "cell_type": "code",
      "metadata": {
        "id": "36R_eoR3McWw",
        "outputId": "a8e75f75-3403-4a0c-8f94-17f6edba4584",
        "colab": {
          "base_uri": "https://localhost:8080/",
          "height": 34
        }
      },
      "source": [
        "type(total) #python takes input as a string we have to type cast the input"
      ],
      "execution_count": null,
      "outputs": [
        {
          "output_type": "execute_result",
          "data": {
            "text/plain": [
              "str"
            ]
          },
          "metadata": {
            "tags": []
          },
          "execution_count": 55
        }
      ]
    },
    {
      "cell_type": "code",
      "metadata": {
        "id": "34eg1GowMcWy",
        "outputId": "449804c1-0741-4e7a-f295-9a722c0ff735",
        "colab": {
          "base_uri": "https://localhost:8080/",
          "height": 34
        }
      },
      "source": [
        "total = int(value1) + int(value2) #type casting to int format\n",
        "print(total)   "
      ],
      "execution_count": null,
      "outputs": [
        {
          "output_type": "stream",
          "text": [
            "70\n"
          ],
          "name": "stdout"
        }
      ]
    },
    {
      "cell_type": "markdown",
      "metadata": {
        "id": "UQb1rKBrMcW3"
      },
      "source": [
        "Getting an Integer from the User by casting the input format"
      ]
    },
    {
      "cell_type": "code",
      "metadata": {
        "id": "NmxhiVpvMcW3",
        "outputId": "41f9e2b9-20cc-4d4d-b826-c89e9c64d04f",
        "colab": {
          "base_uri": "https://localhost:8080/",
          "height": 34
        }
      },
      "source": [
        "another_value = int(input('Enter another integer: '))"
      ],
      "execution_count": null,
      "outputs": [
        {
          "output_type": "stream",
          "text": [
            "Enter another integer: 10\n"
          ],
          "name": "stdout"
        }
      ]
    },
    {
      "cell_type": "code",
      "metadata": {
        "id": "DZom9D-KMcW5",
        "outputId": "39154244-88f4-4623-8d1a-b4cdf5a16835",
        "colab": {
          "base_uri": "https://localhost:8080/",
          "height": 34
        }
      },
      "source": [
        "print(another_value)"
      ],
      "execution_count": null,
      "outputs": [
        {
          "output_type": "stream",
          "text": [
            "10\n"
          ],
          "name": "stdout"
        }
      ]
    },
    {
      "cell_type": "markdown",
      "metadata": {
        "id": "-ad6fwVhMcW8"
      },
      "source": [
        "**Taking multiple input from the user**"
      ]
    },
    {
      "cell_type": "code",
      "metadata": {
        "id": "7IpINmFPMcW8",
        "outputId": "52dcef8c-fe18-4b50-f25a-55a326d3ebb8",
        "colab": {
          "base_uri": "https://localhost:8080/",
          "height": 34
        }
      },
      "source": [
        "a, b = input().split()"
      ],
      "execution_count": null,
      "outputs": [
        {
          "output_type": "stream",
          "text": [
            "10 20\n"
          ],
          "name": "stdout"
        }
      ]
    },
    {
      "cell_type": "code",
      "metadata": {
        "id": "Act4R-jsMcW_",
        "outputId": "9a8d9d80-92c1-457f-b093-6b3a3ec048cc",
        "colab": {
          "base_uri": "https://localhost:8080/",
          "height": 34
        }
      },
      "source": [
        "print(a , b)"
      ],
      "execution_count": null,
      "outputs": [
        {
          "output_type": "stream",
          "text": [
            "10 20\n"
          ],
          "name": "stdout"
        }
      ]
    },
    {
      "cell_type": "code",
      "metadata": {
        "id": "Ll2HhpTNMcXB",
        "outputId": "b8fc61d0-1ceb-4b4f-984c-2b0acff4d164",
        "colab": {
          "base_uri": "https://localhost:8080/",
          "height": 34
        }
      },
      "source": [
        "print(type(a))"
      ],
      "execution_count": null,
      "outputs": [
        {
          "output_type": "stream",
          "text": [
            "<class 'str'>\n"
          ],
          "name": "stdout"
        }
      ]
    },
    {
      "cell_type": "code",
      "metadata": {
        "id": "gJNp2c4Or7jU",
        "outputId": "7ce2ae9c-55ff-43a1-8196-f1b7e5a87efe",
        "colab": {
          "base_uri": "https://localhost:8080/",
          "height": 34
        }
      },
      "source": [
        "name = input(\"What's your name? \")"
      ],
      "execution_count": null,
      "outputs": [
        {
          "output_type": "stream",
          "text": [
            "What's your name? shifat\n"
          ],
          "name": "stdout"
        }
      ]
    },
    {
      "cell_type": "code",
      "metadata": {
        "id": "GYbU-E9Ysdxq",
        "outputId": "467bb790-9faf-46bd-84f7-3ca016800a2f",
        "colab": {
          "base_uri": "https://localhost:8080/",
          "height": 34
        }
      },
      "source": [
        "print(name)"
      ],
      "execution_count": null,
      "outputs": [
        {
          "output_type": "stream",
          "text": [
            "shifat\n"
          ],
          "name": "stdout"
        }
      ]
    },
    {
      "cell_type": "code",
      "metadata": {
        "id": "POY8NEimspCW",
        "outputId": "fe3a6886-8b48-43b1-ab5b-ae11bbff8c37",
        "colab": {
          "base_uri": "https://localhost:8080/",
          "height": 51
        }
      },
      "source": [
        "value1 = input('Enter first number: ')\n",
        "value2 = input('Enter second number: ')"
      ],
      "execution_count": null,
      "outputs": [
        {
          "output_type": "stream",
          "text": [
            "Enter first number: 30\n",
            "Enter second number: 40\n"
          ],
          "name": "stdout"
        }
      ]
    },
    {
      "cell_type": "code",
      "metadata": {
        "id": "SxvaFVQvspQH",
        "outputId": "caf243f4-62ba-4549-b77c-42f97bb9be77",
        "colab": {
          "base_uri": "https://localhost:8080/",
          "height": 34
        }
      },
      "source": [
        "total = value1 + value2\n",
        "print(total)"
      ],
      "execution_count": null,
      "outputs": [
        {
          "output_type": "stream",
          "text": [
            "3040\n"
          ],
          "name": "stdout"
        }
      ]
    },
    {
      "cell_type": "code",
      "metadata": {
        "id": "yvsClnwOsp4D",
        "outputId": "a8e75f75-3403-4a0c-8f94-17f6edba4584",
        "colab": {
          "base_uri": "https://localhost:8080/",
          "height": 34
        }
      },
      "source": [
        "type(total) #python takes input as a string we have to type cast the input"
      ],
      "execution_count": null,
      "outputs": [
        {
          "output_type": "execute_result",
          "data": {
            "text/plain": [
              "str"
            ]
          },
          "metadata": {
            "tags": []
          },
          "execution_count": 55
        }
      ]
    },
    {
      "cell_type": "code",
      "metadata": {
        "id": "aZgwo8zLtnWs",
        "outputId": "449804c1-0741-4e7a-f295-9a722c0ff735",
        "colab": {
          "base_uri": "https://localhost:8080/",
          "height": 34
        }
      },
      "source": [
        "total = int(value1) + int(value2) #type casting to int format\n",
        "print(total)   "
      ],
      "execution_count": null,
      "outputs": [
        {
          "output_type": "stream",
          "text": [
            "70\n"
          ],
          "name": "stdout"
        }
      ]
    },
    {
      "cell_type": "markdown",
      "metadata": {
        "id": "GYiauHj3r_DO"
      },
      "source": [
        "Getting an Integer from the User by casting the input format"
      ]
    },
    {
      "cell_type": "code",
      "metadata": {
        "id": "OdkR_jdWuOqQ",
        "outputId": "41f9e2b9-20cc-4d4d-b826-c89e9c64d04f",
        "colab": {
          "base_uri": "https://localhost:8080/",
          "height": 34
        }
      },
      "source": [
        "another_value = int(input('Enter another integer: '))"
      ],
      "execution_count": null,
      "outputs": [
        {
          "output_type": "stream",
          "text": [
            "Enter another integer: 10\n"
          ],
          "name": "stdout"
        }
      ]
    },
    {
      "cell_type": "code",
      "metadata": {
        "id": "K6mR1xrFuWFb",
        "outputId": "39154244-88f4-4623-8d1a-b4cdf5a16835",
        "colab": {
          "base_uri": "https://localhost:8080/",
          "height": 34
        }
      },
      "source": [
        "print(another_value)"
      ],
      "execution_count": null,
      "outputs": [
        {
          "output_type": "stream",
          "text": [
            "10\n"
          ],
          "name": "stdout"
        }
      ]
    },
    {
      "cell_type": "markdown",
      "metadata": {
        "id": "ieLg86vhvB72"
      },
      "source": [
        "**Taking multiple input from the user**"
      ]
    },
    {
      "cell_type": "code",
      "metadata": {
        "id": "-5dzapcNuaWK",
        "outputId": "52dcef8c-fe18-4b50-f25a-55a326d3ebb8",
        "colab": {
          "base_uri": "https://localhost:8080/",
          "height": 34
        }
      },
      "source": [
        "a, b = input().split()"
      ],
      "execution_count": null,
      "outputs": [
        {
          "output_type": "stream",
          "text": [
            "10 20\n"
          ],
          "name": "stdout"
        }
      ]
    },
    {
      "cell_type": "code",
      "metadata": {
        "id": "9vrLTTiTvekU",
        "outputId": "9a8d9d80-92c1-457f-b093-6b3a3ec048cc",
        "colab": {
          "base_uri": "https://localhost:8080/",
          "height": 34
        }
      },
      "source": [
        "print(a , b)"
      ],
      "execution_count": null,
      "outputs": [
        {
          "output_type": "stream",
          "text": [
            "10 20\n"
          ],
          "name": "stdout"
        }
      ]
    },
    {
      "cell_type": "code",
      "metadata": {
        "id": "xYKYc-r4vm5i",
        "outputId": "b8fc61d0-1ceb-4b4f-984c-2b0acff4d164",
        "colab": {
          "base_uri": "https://localhost:8080/",
          "height": 34
        }
      },
      "source": [
        "print(type(a))"
      ],
      "execution_count": null,
      "outputs": [
        {
          "output_type": "stream",
          "text": [
            "<class 'str'>\n"
          ],
          "name": "stdout"
        }
      ]
    },
    {
      "cell_type": "markdown",
      "metadata": {
        "id": "W4uhBhpNwGAP"
      },
      "source": [
        "# Solving Problem\n",
        "\n",
        "**Determining the Minimum and Maximum with Built-In Functions min and max**\n",
        "\n",
        "\n",
        "---\n",
        "\n"
      ]
    },
    {
      "cell_type": "code",
      "metadata": {
        "id": "1Ozwy-sXv11i",
        "outputId": "f84447cb-1168-470c-b6a0-f5a127dc6185",
        "colab": {
          "base_uri": "https://localhost:8080/",
          "height": 68
        }
      },
      "source": [
        "number1 = int(input('Enter first integer: '))\n",
        "number2 = int(input('Enter second integer: '))\n",
        "number3 = int(input('Enter third integer: '))"
      ],
      "execution_count": null,
      "outputs": [
        {
          "output_type": "stream",
          "text": [
            "Enter first integer: 20\n",
            "Enter second integer: 50\n",
            "Enter third integer: 100\n"
          ],
          "name": "stdout"
        }
      ]
    },
    {
      "cell_type": "code",
      "metadata": {
        "id": "QCbW8r0ax_gg",
        "outputId": "a307e714-165c-49ab-8843-d1e70a6220fd",
        "colab": {
          "base_uri": "https://localhost:8080/",
          "height": 34
        }
      },
      "source": [
        "min(number1,number2,number3)"
      ],
      "execution_count": null,
      "outputs": [
        {
          "output_type": "execute_result",
          "data": {
            "text/plain": [
              "20"
            ]
          },
          "metadata": {
            "tags": []
          },
          "execution_count": 70
        }
      ]
    },
    {
      "cell_type": "code",
      "metadata": {
        "id": "cJPEu86JyAAJ",
        "outputId": "d59e7e14-2e59-4eb5-eb06-abb43a39ac3a",
        "colab": {
          "base_uri": "https://localhost:8080/",
          "height": 34
        }
      },
      "source": [
        "max(number1,number2,number3)"
      ],
      "execution_count": null,
      "outputs": [
        {
          "output_type": "execute_result",
          "data": {
            "text/plain": [
              "100"
            ]
          },
          "metadata": {
            "tags": []
          },
          "execution_count": 71
        }
      ]
    },
    {
      "cell_type": "markdown",
      "metadata": {
        "id": "avdLbmSvyx19"
      },
      "source": [
        "#***Exercises***\n",
        "\n",
        "---\n",
        "\n",
        "\n",
        "\n",
        "**Create the variables x = 2 and y = 3, then determine what\n",
        "each of the following statements displays:**\n",
        "\n",
        "*  print('x =', x)\n",
        "*  print('Value of', x, '+', x, 'is', (x + x))\n",
        "*  print('x =')\n",
        "*  print((x + y), '=', (y + x))\n",
        "\n",
        "\n",
        "---\n",
        "\n"
      ]
    }
  ]
}