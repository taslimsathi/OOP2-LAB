{
  "nbformat": 4,
  "nbformat_minor": 0,
  "metadata": {
    "colab": {
      "name": " Week 8 .ipynb",
      "provenance": [],
      "collapsed_sections": [],
      "include_colab_link": true
    },
    "kernelspec": {
      "name": "python3",
      "display_name": "Python 3"
    }
  },
  "cells": [
    {
      "cell_type": "markdown",
      "metadata": {
        "id": "view-in-github",
        "colab_type": "text"
      },
      "source": [
        "<a href=\"https://colab.research.google.com/github/taslimsathi/OOP2-LAB/blob/master/Week_8_.ipynb\" target=\"_parent\"><img src=\"https://colab.research.google.com/assets/colab-badge.svg\" alt=\"Open In Colab\"/></a>"
      ]
    },
    {
      "cell_type": "markdown",
      "metadata": {
        "id": "-zpwYawhStKt"
      },
      "source": [
        "**Create base calss** \n",
        "---\n",
        "\n"
      ]
    },
    {
      "cell_type": "code",
      "metadata": {
        "id": "KoOeWxGtlyAp"
      },
      "source": [
        "class Ball():\n",
        "  def __init__(self):\n",
        "    print(f'Ball created!')\n",
        "  \n",
        "  def who_am_i(self):\n",
        "    print(f'i am ball')"
      ],
      "execution_count": null,
      "outputs": []
    },
    {
      "cell_type": "markdown",
      "metadata": {
        "id": "dTR3EP5qS5aa"
      },
      "source": [
        "**Create a Child(football) class**"
      ]
    },
    {
      "cell_type": "code",
      "metadata": {
        "id": "YhnTBXegS5Fs"
      },
      "source": [
        "class Football(Ball):\n",
        "  def __init__(self):\n",
        "    #create instances of Ball\n",
        "    Ball.__init__(self)\n",
        "    print(f'football created!')"
      ],
      "execution_count": null,
      "outputs": []
    },
    {
      "cell_type": "markdown",
      "metadata": {
        "id": "24NOLmBDTD9H"
      },
      "source": [
        "**Create object**"
      ]
    },
    {
      "cell_type": "code",
      "metadata": {
        "id": "_jOJJdfCnJbY",
        "colab": {
          "base_uri": "https://localhost:8080/"
        },
        "outputId": "2449a31f-47e8-4b42-b4ad-fb9ca7390bd4"
      },
      "source": [
        "myFootball = Football()"
      ],
      "execution_count": null,
      "outputs": [
        {
          "output_type": "stream",
          "text": [
            "Ball created!\n",
            "football created!\n"
          ],
          "name": "stdout"
        }
      ]
    },
    {
      "cell_type": "markdown",
      "metadata": {
        "id": "jPG8p1-ITkQL"
      },
      "source": [
        "**Call base method**"
      ]
    },
    {
      "cell_type": "code",
      "metadata": {
        "id": "Vb8n4Gs0n5wt",
        "colab": {
          "base_uri": "https://localhost:8080/"
        },
        "outputId": "76c9591f-f286-4356-e16a-5fb4e32b204e"
      },
      "source": [
        "myFootball.who_am_i()"
      ],
      "execution_count": null,
      "outputs": [
        {
          "output_type": "stream",
          "text": [
            "i am ball\n"
          ],
          "name": "stdout"
        }
      ]
    },
    {
      "cell_type": "markdown",
      "metadata": {
        "id": "tg7nqVuCZShT"
      },
      "source": [
        "**Use the super() Function**"
      ]
    },
    {
      "cell_type": "code",
      "metadata": {
        "id": "W3-0WRGFZN43"
      },
      "source": [
        "class Football(Ball):\n",
        "  def __init__(self):\n",
        "    #create instances of Ball\n",
        "    super().__init__(self)\n",
        "    print(f'football created!')"
      ],
      "execution_count": null,
      "outputs": []
    },
    {
      "cell_type": "markdown",
      "metadata": {
        "id": "iTtza2_IZniq"
      },
      "source": [
        "**Overriding**"
      ]
    },
    {
      "cell_type": "code",
      "metadata": {
        "id": "4ppA3MgxoJUf"
      },
      "source": [
        "class Football(Ball):\n",
        "  def __init__(self):\n",
        "    #create instances of Ball\n",
        "    Ball.__init__(self)\n",
        "    print(f'football created!')\n",
        "  #overide base class method\n",
        "  def who_am_i(self):\n",
        "    print(f'i am football!')"
      ],
      "execution_count": null,
      "outputs": []
    },
    {
      "cell_type": "markdown",
      "metadata": {
        "id": "_G9EAXYRZ4WW"
      },
      "source": [
        "**Create object**"
      ]
    },
    {
      "cell_type": "code",
      "metadata": {
        "id": "U7yXqjsdZvW2",
        "colab": {
          "base_uri": "https://localhost:8080/"
        },
        "outputId": "e79e93fd-6c6d-4523-d72c-98ed4f1489c4"
      },
      "source": [
        "myFootball = Football()\n",
        "#call overide method\n",
        "myFootball.who_am_i()"
      ],
      "execution_count": null,
      "outputs": [
        {
          "output_type": "stream",
          "text": [
            "Ball created!\n",
            "football created!\n",
            "i am football!\n"
          ],
          "name": "stdout"
        }
      ]
    },
    {
      "cell_type": "markdown",
      "metadata": {
        "id": "0VgDIQQ6ajD3"
      },
      "source": [
        "Add new method &\n",
        "Overriding **bold text**"
      ]
    },
    {
      "cell_type": "code",
      "metadata": {
        "id": "_r8d4cytpOr-"
      },
      "source": [
        "class Football(Ball):\n",
        "  def __init__(self):\n",
        "    #create instances of Ball\n",
        "    Ball.__init__(self)\n",
        "    print(f'football created!')\n",
        "  #overide base class method\n",
        "  def who_am_i(self):\n",
        "    print(f'i am football!')\n",
        "  #new method\n",
        "  def play(self):\n",
        "    print(f'hey! i am ready for play!')"
      ],
      "execution_count": null,
      "outputs": []
    },
    {
      "cell_type": "markdown",
      "metadata": {
        "id": "k8d8fHzfaVF2"
      },
      "source": [
        "**Create object**"
      ]
    },
    {
      "cell_type": "code",
      "metadata": {
        "id": "sllR7mLap6AN",
        "colab": {
          "base_uri": "https://localhost:8080/"
        },
        "outputId": "f4f6074f-e01b-4bf9-903b-271b9c7ff14d"
      },
      "source": [
        "myFootball = Football()\n",
        "#call new method\n",
        "myFootball.play()"
      ],
      "execution_count": null,
      "outputs": [
        {
          "output_type": "stream",
          "text": [
            "Ball created!\n",
            "football created!\n",
            "hey! i am ready for play!\n"
          ],
          "name": "stdout"
        }
      ]
    }
  ]
}