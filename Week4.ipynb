{
  "nbformat": 4,
  "nbformat_minor": 0,
  "metadata": {
    "colab": {
      "name": "Week4.ipynb",
      "provenance": [],
      "collapsed_sections": [],
      "include_colab_link": true
    },
    "kernelspec": {
      "name": "python3",
      "display_name": "Python 3"
    }
  },
  "cells": [
    {
      "cell_type": "markdown",
      "metadata": {
        "id": "view-in-github",
        "colab_type": "text"
      },
      "source": [
        "<a href=\"https://colab.research.google.com/github/taslimsathi/OOP2-LAB/blob/master/Week4.ipynb\" target=\"_parent\"><img src=\"https://colab.research.google.com/assets/colab-badge.svg\" alt=\"Open In Colab\"/></a>"
      ]
    },
    {
      "cell_type": "code",
      "metadata": {
        "id": "dv5fgiINPQhy",
        "outputId": "c3967c29-521e-4f34-e31a-845dc7224905",
        "colab": {
          "base_uri": "https://localhost:8080/",
          "height": 34
        }
      },
      "source": [
        "#creating list\n",
        "\n",
        "lst0=[1,2,3,32,2.23,43.23,\"Sathi\",[2,32,3]]\n",
        "print(lst0)\n",
        "lst1=[]\n"
      ],
      "execution_count": 1,
      "outputs": [
        {
          "output_type": "stream",
          "text": [
            "[1, 2, 3, 32, 2.23, 43.23, 'Sathi', [2, 32, 3]]\n"
          ],
          "name": "stdout"
        }
      ]
    },
    {
      "cell_type": "code",
      "metadata": {
        "id": "OzhLaNmjPibF",
        "outputId": "048d77e5-0f65-4b6d-9517-1dc1adb5ec48",
        "colab": {
          "base_uri": "https://localhost:8080/",
          "height": 34
        }
      },
      "source": [
        "#iterating list\n",
        "\n",
        "lst0=[1,2,3,32,2.23,43.23,\"Sathi\",[2,32,3]]\n",
        "for i in lst0:\n",
        "    print(i,end=' ')\n",
        "print('')"
      ],
      "execution_count": 13,
      "outputs": [
        {
          "output_type": "stream",
          "text": [
            "1 2 3 32 2.23 43.23 Sathi [2, 32, 3] \n"
          ],
          "name": "stdout"
        }
      ]
    },
    {
      "cell_type": "code",
      "metadata": {
        "id": "KNxT03XVQl1s",
        "outputId": "0b40607c-f39d-4b5b-81ad-e280ab72c1dd",
        "colab": {
          "base_uri": "https://localhost:8080/",
          "height": 87
        }
      },
      "source": [
        "#iterating list\n",
        "\n",
        "lst0=[1,2,3,32,2.23,43.23,\"Sathi\",[2,32,3]]\n",
        "print(lst0[2])\n",
        "print(lst0[6])\n",
        "print(lst0[-2])\n",
        "print(lst0[-8])"
      ],
      "execution_count": 12,
      "outputs": [
        {
          "output_type": "stream",
          "text": [
            "3\n",
            "Sathi\n",
            "Sathi\n",
            "1\n"
          ],
          "name": "stdout"
        }
      ]
    },
    {
      "cell_type": "code",
      "metadata": {
        "id": "068-O8s6RPqT",
        "outputId": "f4244f3c-7caf-42a6-95f6-9a17f7c697b0",
        "colab": {
          "base_uri": "https://localhost:8080/",
          "height": 158
        }
      },
      "source": [
        "#List operations\n",
        "\n",
        "lst0=[1,2,3,32,2.23,43.23,\"Sathi\",[2,32,3]]\n",
        "\n",
        "print(len(lst0))                #len( ) gives the length of the list\n",
        "\n",
        "lst0.append([12,2,12,2])        #append( ) inserts an element to the end of the list\n",
        "print(lst0)\n",
        "\n",
        "lst0.insert(2,\"pandas\")         #insert( ) insertes an element on a given index\n",
        "print(lst0)\n",
        "\n",
        "lst0.remove(3)                  #remove( ) removes first occurence of an element\n",
        "print(lst0)\n",
        "\n",
        "print(lst0.index(\"Sathi\"))     #index( ) returns index of first occurence of an element\n",
        "\n",
        "print(lst0.count('pandas'))     #count( ) reuturns the number of occurence of an element\n",
        "\n",
        "print(lst0.reverse())           #reverse( ) makes a reverse list\n",
        "\n",
        "lst1=lst0.copy()                #copy( ) makes a copy of list\n",
        "print(lst1)\n",
        "\n",
        "lst0.clear()                    #clear( ) makes the list empty\n"
      ],
      "execution_count": 11,
      "outputs": [
        {
          "output_type": "stream",
          "text": [
            "8\n",
            "[1, 2, 3, 32, 2.23, 43.23, 'Sathi', [2, 32, 3], [12, 2, 12, 2]]\n",
            "[1, 2, 'pandas', 3, 32, 2.23, 43.23, 'Sathi', [2, 32, 3], [12, 2, 12, 2]]\n",
            "[1, 2, 'pandas', 32, 2.23, 43.23, 'Sathi', [2, 32, 3], [12, 2, 12, 2]]\n",
            "6\n",
            "1\n",
            "None\n",
            "[[12, 2, 12, 2], [2, 32, 3], 'Sathi', 43.23, 2.23, 32, 'pandas', 2, 1]\n"
          ],
          "name": "stdout"
        }
      ]
    },
    {
      "cell_type": "code",
      "metadata": {
        "id": "Efc_Q8FCU1RZ",
        "outputId": "7c839480-4eba-4db8-d968-5c07d8a1ef7a",
        "colab": {
          "base_uri": "https://localhost:8080/",
          "height": 87
        }
      },
      "source": [
        "#lsit slicing\n",
        "\n",
        "lst0=[1,2,3,32,2.23,43.23,\"Sathi\",[2,32,3]]\n",
        "\n",
        "print(lst0[2:7])\n",
        "print(lst0[2:])\n",
        "print(lst0[:5])\n",
        "print(lst0[:])"
      ],
      "execution_count": 9,
      "outputs": [
        {
          "output_type": "stream",
          "text": [
            "[3, 32, 2.23, 43.23, 'Sathi']\n",
            "[3, 32, 2.23, 43.23, 'Sathi', [2, 32, 3]]\n",
            "[1, 2, 3, 32, 2.23]\n",
            "[1, 2, 3, 32, 2.23, 43.23, 'Sathi', [2, 32, 3]]\n"
          ],
          "name": "stdout"
        }
      ]
    },
    {
      "cell_type": "code",
      "metadata": {
        "id": "VcznBtQPWFD1",
        "outputId": "66c5f8c6-aab6-480a-915d-972999867769",
        "colab": {
          "base_uri": "https://localhost:8080/",
          "height": 70
        }
      },
      "source": [
        "#list sorting\n",
        "\n",
        "lst2=[1,2,4,2,4,2,4,2,5,6,7,4]\n",
        "\n",
        "lst3=sorted(lst2)\n",
        "print(lst3)\n",
        "print(lst2)\n",
        "lst2.sort()\n",
        "print(lst2)"
      ],
      "execution_count": 8,
      "outputs": [
        {
          "output_type": "stream",
          "text": [
            "[1, 2, 2, 2, 2, 4, 4, 4, 4, 5, 6, 7]\n",
            "[1, 2, 4, 2, 4, 2, 4, 2, 5, 6, 7, 4]\n",
            "[1, 2, 2, 2, 2, 4, 4, 4, 4, 5, 6, 7]\n"
          ],
          "name": "stdout"
        }
      ]
    },
    {
      "cell_type": "code",
      "metadata": {
        "id": "CsnsqMPsWn6m",
        "outputId": "e41f07d2-48c1-425b-ff9b-e89bc315feaf",
        "colab": {
          "base_uri": "https://localhost:8080/",
          "height": 34
        }
      },
      "source": [
        "#creating tuple\n",
        "\n",
        "tp0=(1,2,3,32,2.23,43.23,\"Sathi\",[2,32,3])\n",
        "print(tp0)\n",
        "tp1=()\n"
      ],
      "execution_count": 6,
      "outputs": [
        {
          "output_type": "stream",
          "text": [
            "(1, 2, 3, 32, 2.23, 43.23, 'Sathi', [2, 32, 3])\n"
          ],
          "name": "stdout"
        }
      ]
    },
    {
      "cell_type": "code",
      "metadata": {
        "id": "zqLQKHBrXNxY",
        "outputId": "26a19daa-9357-440e-ce0c-65b3a550fc04",
        "colab": {
          "base_uri": "https://localhost:8080/",
          "height": 34
        }
      },
      "source": [
        "#iterating tuple\n",
        "\n",
        "tp0=(1,2,3,32,2.23,43.23,\"Sathi\",[2,32,3])\n",
        "for i in tp0:\n",
        "    print(i,end=' ')\n",
        "print('')"
      ],
      "execution_count": 7,
      "outputs": [
        {
          "output_type": "stream",
          "text": [
            "1 2 3 32 2.23 43.23 Sathi [2, 32, 3] \n"
          ],
          "name": "stdout"
        }
      ]
    },
    {
      "cell_type": "code",
      "metadata": {
        "id": "KZUEXf9KXyFq",
        "outputId": "427f14c5-b4ff-4eb5-c56a-33505b839c61",
        "colab": {
          "base_uri": "https://localhost:8080/",
          "height": 87
        }
      },
      "source": [
        "#iterating tuple\n",
        "\n",
        "tp0=(1,2,3,32,2.23,43.23,\"Sathi\",[2,32,3])\n",
        "print(tp0[2])\n",
        "print(tp0[6])\n",
        "print(tp0[-2])\n",
        "print(tp0[-6])"
      ],
      "execution_count": 5,
      "outputs": [
        {
          "output_type": "stream",
          "text": [
            "3\n",
            "Sathi\n",
            "Sathi\n",
            "3\n"
          ],
          "name": "stdout"
        }
      ]
    },
    {
      "cell_type": "code",
      "metadata": {
        "id": "J0R9_6tYYU6j",
        "outputId": "c5dee127-b9db-452f-871f-6b87eefa24c4",
        "colab": {
          "base_uri": "https://localhost:8080/",
          "height": 34
        }
      },
      "source": [
        "#inserting into tuple\n",
        "\n",
        "tp0=(1,2,3,32,2.23,43.23,\"Sathi\",[2,32,3])\n",
        "tp0+=(\"pandas\",232,3,232,3)\n",
        "print(tp0)"
      ],
      "execution_count": 4,
      "outputs": [
        {
          "output_type": "stream",
          "text": [
            "(1, 2, 3, 32, 2.23, 43.23, 'Sathi', [2, 32, 3], 'pandas', 232, 3, 232, 3)\n"
          ],
          "name": "stdout"
        }
      ]
    },
    {
      "cell_type": "code",
      "metadata": {
        "id": "ZWp59vSEZfJJ",
        "outputId": "9f225f72-6b3a-4842-ed3a-95ac2a173f35",
        "colab": {
          "base_uri": "https://localhost:8080/",
          "height": 86
        }
      },
      "source": [
        "#unpacking sequences\n",
        "\n",
        "lst=[2,3,423,43]\n",
        "a,b,c,d=lst\n",
        "print(a)\n",
        "print(b)\n",
        "print(c)\n",
        "print(d)"
      ],
      "execution_count": null,
      "outputs": [
        {
          "output_type": "stream",
          "text": [
            "2\n",
            "3\n",
            "423\n",
            "43\n"
          ],
          "name": "stdout"
        }
      ]
    },
    {
      "cell_type": "code",
      "metadata": {
        "id": "o-2Xal8TZ1mo",
        "outputId": "4ba94040-288c-4ebb-bb08-4643bd77cfff",
        "colab": {
          "base_uri": "https://localhost:8080/",
          "height": 86
        }
      },
      "source": [
        "#unpacking sequences\n",
        "\n",
        "tp=(2,3,423,43)\n",
        "a,b,c,d=tp\n",
        "print(a)\n",
        "print(b)\n",
        "print(c)\n",
        "print(d)"
      ],
      "execution_count": null,
      "outputs": [
        {
          "output_type": "stream",
          "text": [
            "2\n",
            "3\n",
            "423\n",
            "43\n"
          ],
          "name": "stdout"
        }
      ]
    }
  ]
}